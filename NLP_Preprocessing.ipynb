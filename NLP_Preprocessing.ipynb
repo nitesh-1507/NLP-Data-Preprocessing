{
 "cells": [
  {
   "cell_type": "markdown",
   "metadata": {},
   "source": [
    "#                Natural Language Processing - Data Preprocessing using NLTK"
   ]
  },
  {
   "cell_type": "raw",
   "metadata": {},
   "source": [
    "Natural Language processing consits of certain data processing to make it useful for supervised learnings like sentiment analysis ans unsupervised learnings like clustering. The steps are:\n",
    "\n",
    "1) Getting rid of unnecessary symbols or characters\n",
    "2) Word Tokenization\n",
    "3) Filtering stopwords out of the list\n",
    "4) POS(Part of Speech) Tagging\n",
    "5) Filtering the required POS\n"
   ]
  },
  {
   "cell_type": "code",
   "execution_count": 185,
   "metadata": {},
   "outputs": [],
   "source": [
    "import pandas as pd\n",
    "import nltk\n",
    "from nltk.tokenize import  sent_tokenize,word_tokenize\n",
    "from nltk.corpus import stopwords\n",
    "from nltk.stem import PorterStemmer\n",
    "from nltk import FreqDist\n",
    "import string"
   ]
  },
  {
   "cell_type": "code",
   "execution_count": 186,
   "metadata": {},
   "outputs": [],
   "source": [
    "## Importing data file\n",
    "\n",
    "baby_product=pd.read_csv('E:/amazonReview-master/amazonReview-master/amazon_baby_train.csv')"
   ]
  },
  {
   "cell_type": "code",
   "execution_count": 187,
   "metadata": {},
   "outputs": [],
   "source": [
    "## Data manipulation: coverting reviews to lowercase and also replacing some symbols with space\n",
    "\n",
    "## Step 1\n",
    "\n",
    "baby_product['review']=baby_product['review'].apply(lambda x: str(x).lower())\n",
    "baby_product['review']=baby_product['review'].apply(lambda x: str(x).replace('_',' '))\n",
    "baby_product['review']=baby_product['review'].apply(lambda x: str(x).replace('-',' '))\n",
    "baby_product['review']=baby_product['review'].apply(lambda x: str(x).replace('/',' '))\n",
    "baby_product['review']=baby_product['review'].apply(lambda x: str(x).replace(',',' '))\n",
    "baby_product['review']=baby_product['review'].apply(lambda x: str(x).replace('.',' '))\n",
    "baby_product['review']=baby_product['review'].apply(lambda x: str(x).replace(\"n't\",' '))"
   ]
  },
  {
   "cell_type": "code",
   "execution_count": 188,
   "metadata": {},
   "outputs": [
    {
     "data": {
      "text/html": [
       "<div>\n",
       "<style scoped>\n",
       "    .dataframe tbody tr th:only-of-type {\n",
       "        vertical-align: middle;\n",
       "    }\n",
       "\n",
       "    .dataframe tbody tr th {\n",
       "        vertical-align: top;\n",
       "    }\n",
       "\n",
       "    .dataframe thead th {\n",
       "        text-align: right;\n",
       "    }\n",
       "</style>\n",
       "<table border=\"1\" class=\"dataframe\">\n",
       "  <thead>\n",
       "    <tr style=\"text-align: right;\">\n",
       "      <th></th>\n",
       "      <th>name</th>\n",
       "      <th>review</th>\n",
       "      <th>rating</th>\n",
       "    </tr>\n",
       "  </thead>\n",
       "  <tbody>\n",
       "    <tr>\n",
       "      <th>0</th>\n",
       "      <td>Moby Wrap Original 100% Cotton Baby Carrier, Red</td>\n",
       "      <td>bought this for my daughter who is expecting h...</td>\n",
       "      <td>5</td>\n",
       "    </tr>\n",
       "    <tr>\n",
       "      <th>1</th>\n",
       "      <td>Child to Cherish Handprints Tower Of Time Kit ...</td>\n",
       "      <td>a perfect baby or first birthday gift  i recei...</td>\n",
       "      <td>5</td>\n",
       "    </tr>\n",
       "    <tr>\n",
       "      <th>2</th>\n",
       "      <td>CM Star Candy Heart Crossbody Shoulder Bag Sat...</td>\n",
       "      <td>it is very cute  and i got a lot of compliment...</td>\n",
       "      <td>4</td>\n",
       "    </tr>\n",
       "    <tr>\n",
       "      <th>3</th>\n",
       "      <td>JJ Cole Collections System Diaper Bag, Black D...</td>\n",
       "      <td>i have had 3 of these bags   i love it so much...</td>\n",
       "      <td>3</td>\n",
       "    </tr>\n",
       "    <tr>\n",
       "      <th>4</th>\n",
       "      <td>Recaro Signo Convertible Car Seat Midnight Desert</td>\n",
       "      <td>i have used this with both my kids  it is the ...</td>\n",
       "      <td>5</td>\n",
       "    </tr>\n",
       "  </tbody>\n",
       "</table>\n",
       "</div>"
      ],
      "text/plain": [
       "                                                name  \\\n",
       "0   Moby Wrap Original 100% Cotton Baby Carrier, Red   \n",
       "1  Child to Cherish Handprints Tower Of Time Kit ...   \n",
       "2  CM Star Candy Heart Crossbody Shoulder Bag Sat...   \n",
       "3  JJ Cole Collections System Diaper Bag, Black D...   \n",
       "4  Recaro Signo Convertible Car Seat Midnight Desert   \n",
       "\n",
       "                                              review  rating  \n",
       "0  bought this for my daughter who is expecting h...       5  \n",
       "1  a perfect baby or first birthday gift  i recei...       5  \n",
       "2  it is very cute  and i got a lot of compliment...       4  \n",
       "3  i have had 3 of these bags   i love it so much...       3  \n",
       "4  i have used this with both my kids  it is the ...       5  "
      ]
     },
     "execution_count": 188,
     "metadata": {},
     "output_type": "execute_result"
    }
   ],
   "source": [
    "baby_product.head()"
   ]
  },
  {
   "cell_type": "code",
   "execution_count": 189,
   "metadata": {},
   "outputs": [],
   "source": [
    "## Step 2\n",
    "\n",
    "baby_product['tokenized_words']=baby_product['review'].apply(lambda x: word_tokenize(str(x)))"
   ]
  },
  {
   "cell_type": "code",
   "execution_count": 190,
   "metadata": {},
   "outputs": [
    {
     "data": {
      "text/html": [
       "<div>\n",
       "<style scoped>\n",
       "    .dataframe tbody tr th:only-of-type {\n",
       "        vertical-align: middle;\n",
       "    }\n",
       "\n",
       "    .dataframe tbody tr th {\n",
       "        vertical-align: top;\n",
       "    }\n",
       "\n",
       "    .dataframe thead th {\n",
       "        text-align: right;\n",
       "    }\n",
       "</style>\n",
       "<table border=\"1\" class=\"dataframe\">\n",
       "  <thead>\n",
       "    <tr style=\"text-align: right;\">\n",
       "      <th></th>\n",
       "      <th>name</th>\n",
       "      <th>review</th>\n",
       "      <th>rating</th>\n",
       "      <th>tokenized_words</th>\n",
       "    </tr>\n",
       "  </thead>\n",
       "  <tbody>\n",
       "    <tr>\n",
       "      <th>0</th>\n",
       "      <td>Moby Wrap Original 100% Cotton Baby Carrier, Red</td>\n",
       "      <td>bought this for my daughter who is expecting h...</td>\n",
       "      <td>5</td>\n",
       "      <td>[bought, this, for, my, daughter, who, is, exp...</td>\n",
       "    </tr>\n",
       "    <tr>\n",
       "      <th>1</th>\n",
       "      <td>Child to Cherish Handprints Tower Of Time Kit ...</td>\n",
       "      <td>a perfect baby or first birthday gift  i recei...</td>\n",
       "      <td>5</td>\n",
       "      <td>[a, perfect, baby, or, first, birthday, gift, ...</td>\n",
       "    </tr>\n",
       "    <tr>\n",
       "      <th>2</th>\n",
       "      <td>CM Star Candy Heart Crossbody Shoulder Bag Sat...</td>\n",
       "      <td>it is very cute  and i got a lot of compliment...</td>\n",
       "      <td>4</td>\n",
       "      <td>[it, is, very, cute, and, i, got, a, lot, of, ...</td>\n",
       "    </tr>\n",
       "    <tr>\n",
       "      <th>3</th>\n",
       "      <td>JJ Cole Collections System Diaper Bag, Black D...</td>\n",
       "      <td>i have had 3 of these bags   i love it so much...</td>\n",
       "      <td>3</td>\n",
       "      <td>[i, have, had, 3, of, these, bags, i, love, it...</td>\n",
       "    </tr>\n",
       "    <tr>\n",
       "      <th>4</th>\n",
       "      <td>Recaro Signo Convertible Car Seat Midnight Desert</td>\n",
       "      <td>i have used this with both my kids  it is the ...</td>\n",
       "      <td>5</td>\n",
       "      <td>[i, have, used, this, with, both, my, kids, it...</td>\n",
       "    </tr>\n",
       "  </tbody>\n",
       "</table>\n",
       "</div>"
      ],
      "text/plain": [
       "                                                name  \\\n",
       "0   Moby Wrap Original 100% Cotton Baby Carrier, Red   \n",
       "1  Child to Cherish Handprints Tower Of Time Kit ...   \n",
       "2  CM Star Candy Heart Crossbody Shoulder Bag Sat...   \n",
       "3  JJ Cole Collections System Diaper Bag, Black D...   \n",
       "4  Recaro Signo Convertible Car Seat Midnight Desert   \n",
       "\n",
       "                                              review  rating  \\\n",
       "0  bought this for my daughter who is expecting h...       5   \n",
       "1  a perfect baby or first birthday gift  i recei...       5   \n",
       "2  it is very cute  and i got a lot of compliment...       4   \n",
       "3  i have had 3 of these bags   i love it so much...       3   \n",
       "4  i have used this with both my kids  it is the ...       5   \n",
       "\n",
       "                                     tokenized_words  \n",
       "0  [bought, this, for, my, daughter, who, is, exp...  \n",
       "1  [a, perfect, baby, or, first, birthday, gift, ...  \n",
       "2  [it, is, very, cute, and, i, got, a, lot, of, ...  \n",
       "3  [i, have, had, 3, of, these, bags, i, love, it...  \n",
       "4  [i, have, used, this, with, both, my, kids, it...  "
      ]
     },
     "execution_count": 190,
     "metadata": {},
     "output_type": "execute_result"
    }
   ],
   "source": [
    "##  After tokenization\n",
    "\n",
    "baby_product.head()"
   ]
  },
  {
   "cell_type": "code",
   "execution_count": 191,
   "metadata": {},
   "outputs": [],
   "source": [
    "## Step 3 : Creating a stop words list and a function to filter tokenized words \n",
    "\n",
    "stop_word=stopwords.words('english')+list(string.punctuation)\n",
    "def stop_words(x):\n",
    "    a=[]\n",
    "    for i in x:\n",
    "        if i not in (stop_word) and len(i)>1:\n",
    "            a.append(i)\n",
    "    return(a)\n",
    "baby_product['stopped_words']=baby_product['tokenized_words'].apply(stop_words)"
   ]
  },
  {
   "cell_type": "code",
   "execution_count": 192,
   "metadata": {},
   "outputs": [
    {
     "data": {
      "text/html": [
       "<div>\n",
       "<style scoped>\n",
       "    .dataframe tbody tr th:only-of-type {\n",
       "        vertical-align: middle;\n",
       "    }\n",
       "\n",
       "    .dataframe tbody tr th {\n",
       "        vertical-align: top;\n",
       "    }\n",
       "\n",
       "    .dataframe thead th {\n",
       "        text-align: right;\n",
       "    }\n",
       "</style>\n",
       "<table border=\"1\" class=\"dataframe\">\n",
       "  <thead>\n",
       "    <tr style=\"text-align: right;\">\n",
       "      <th></th>\n",
       "      <th>name</th>\n",
       "      <th>review</th>\n",
       "      <th>rating</th>\n",
       "      <th>tokenized_words</th>\n",
       "      <th>stopped_words</th>\n",
       "    </tr>\n",
       "  </thead>\n",
       "  <tbody>\n",
       "    <tr>\n",
       "      <th>0</th>\n",
       "      <td>Moby Wrap Original 100% Cotton Baby Carrier, Red</td>\n",
       "      <td>bought this for my daughter who is expecting h...</td>\n",
       "      <td>5</td>\n",
       "      <td>[bought, this, for, my, daughter, who, is, exp...</td>\n",
       "      <td>[bought, daughter, expecting, first, baby, sai...</td>\n",
       "    </tr>\n",
       "    <tr>\n",
       "      <th>1</th>\n",
       "      <td>Child to Cherish Handprints Tower Of Time Kit ...</td>\n",
       "      <td>a perfect baby or first birthday gift  i recei...</td>\n",
       "      <td>5</td>\n",
       "      <td>[a, perfect, baby, or, first, birthday, gift, ...</td>\n",
       "      <td>[perfect, baby, first, birthday, gift, receive...</td>\n",
       "    </tr>\n",
       "    <tr>\n",
       "      <th>2</th>\n",
       "      <td>CM Star Candy Heart Crossbody Shoulder Bag Sat...</td>\n",
       "      <td>it is very cute  and i got a lot of compliment...</td>\n",
       "      <td>4</td>\n",
       "      <td>[it, is, very, cute, and, i, got, a, lot, of, ...</td>\n",
       "      <td>[cute, got, lot, compliments, pros, really, cu...</td>\n",
       "    </tr>\n",
       "    <tr>\n",
       "      <th>3</th>\n",
       "      <td>JJ Cole Collections System Diaper Bag, Black D...</td>\n",
       "      <td>i have had 3 of these bags   i love it so much...</td>\n",
       "      <td>3</td>\n",
       "      <td>[i, have, had, 3, of, these, bags, i, love, it...</td>\n",
       "      <td>[bags, love, much, one, children, holds, every...</td>\n",
       "    </tr>\n",
       "    <tr>\n",
       "      <th>4</th>\n",
       "      <td>Recaro Signo Convertible Car Seat Midnight Desert</td>\n",
       "      <td>i have used this with both my kids  it is the ...</td>\n",
       "      <td>5</td>\n",
       "      <td>[i, have, used, this, with, both, my, kids, it...</td>\n",
       "      <td>[used, kids, best, car, seat, market, lasts, d...</td>\n",
       "    </tr>\n",
       "  </tbody>\n",
       "</table>\n",
       "</div>"
      ],
      "text/plain": [
       "                                                name  \\\n",
       "0   Moby Wrap Original 100% Cotton Baby Carrier, Red   \n",
       "1  Child to Cherish Handprints Tower Of Time Kit ...   \n",
       "2  CM Star Candy Heart Crossbody Shoulder Bag Sat...   \n",
       "3  JJ Cole Collections System Diaper Bag, Black D...   \n",
       "4  Recaro Signo Convertible Car Seat Midnight Desert   \n",
       "\n",
       "                                              review  rating  \\\n",
       "0  bought this for my daughter who is expecting h...       5   \n",
       "1  a perfect baby or first birthday gift  i recei...       5   \n",
       "2  it is very cute  and i got a lot of compliment...       4   \n",
       "3  i have had 3 of these bags   i love it so much...       3   \n",
       "4  i have used this with both my kids  it is the ...       5   \n",
       "\n",
       "                                     tokenized_words  \\\n",
       "0  [bought, this, for, my, daughter, who, is, exp...   \n",
       "1  [a, perfect, baby, or, first, birthday, gift, ...   \n",
       "2  [it, is, very, cute, and, i, got, a, lot, of, ...   \n",
       "3  [i, have, had, 3, of, these, bags, i, love, it...   \n",
       "4  [i, have, used, this, with, both, my, kids, it...   \n",
       "\n",
       "                                       stopped_words  \n",
       "0  [bought, daughter, expecting, first, baby, sai...  \n",
       "1  [perfect, baby, first, birthday, gift, receive...  \n",
       "2  [cute, got, lot, compliments, pros, really, cu...  \n",
       "3  [bags, love, much, one, children, holds, every...  \n",
       "4  [used, kids, best, car, seat, market, lasts, d...  "
      ]
     },
     "execution_count": 192,
     "metadata": {},
     "output_type": "execute_result"
    }
   ],
   "source": [
    "baby_product.head()"
   ]
  },
  {
   "cell_type": "code",
   "execution_count": 193,
   "metadata": {},
   "outputs": [],
   "source": [
    "## Creating a list of all words after tokenization and stopword step\n",
    "\n",
    "all_words=[]\n",
    "for i in baby_product['stopped_words']:\n",
    "    all_words.extend(i)"
   ]
  },
  {
   "cell_type": "code",
   "execution_count": 194,
   "metadata": {},
   "outputs": [],
   "source": [
    "## step 4 : Tagging the words \n",
    "\n",
    "tagged_words=nltk.pos_tag(all_words)"
   ]
  },
  {
   "cell_type": "markdown",
   "metadata": {},
   "source": [
    "# List of tags "
   ]
  },
  {
   "cell_type": "raw",
   "metadata": {},
   "source": [
    " \n",
    "\n",
    "1) CC coordinating conjunction\n",
    "2) CD cardinal digit\n",
    "3) DT determiner\n",
    "4) EX existential there (like: “there is” … think of it like “there exists”)\n",
    "5) FW foreign word\n",
    "6) IN preposition/subordinating conjunction\n",
    "7) JJ adjective ‘big’\n",
    "8) JJR adjective, comparative ‘bigger’\n",
    "9) JJS adjective, superlative ‘biggest’\n",
    "10) LS list marker 1)\n",
    "11) MD modal could, will\n",
    "12) NN noun, singular ‘desk’\n",
    "13) NNS noun plural ‘desks’\n",
    "14) NNP proper noun, singular ‘Harrison’\n",
    "15) NNPS proper noun, plural ‘Americans’\n",
    "16) PDT predeterminer ‘all the kids’\n",
    "17) POS possessive ending parent‘s\n",
    "18) PRP personal pronoun I, he, she\n",
    "19) PRP possessive pronoun my, his, hers\n",
    "20) RB adverb very, silently,\n",
    "21) RBR adverb, comparative better\n",
    "22) RBS adverb, superlative best\n",
    "23) RP particle give up\n",
    "24) TO to go ‘to‘ the store.\n",
    "25) UH interjection errrrrrrrm\n",
    "26) VB verb, base form take\n",
    "27) VBD verb, past tense took\n",
    "28) VBG verb, gerund/present participle taking\n",
    "29) VBN verb, past participle taken\n",
    "30) VBP verb, sing. present, non-3d take\n",
    "31) VBZ verb, 3rd person sing. present takes\n",
    "32) WDT wh-determiner which\n",
    "33) WP wh-pronoun who, what\n",
    "34) WP possessive wh-pronoun whose\n",
    "35) WRB wh-abverb where, when\n",
    "\n"
   ]
  },
  {
   "cell_type": "code",
   "execution_count": 195,
   "metadata": {},
   "outputs": [],
   "source": [
    "## step 5: Filtering the required words from their specific POS(such as adjectives for sentiment analysis)\n",
    "\n",
    "filtered_word=[]\n",
    "tag=['JJ','JJR','JJS','RB','RBR','RBS']\n",
    "for i in tagged_words:\n",
    "    if i[1] in tag:\n",
    "        filtered_word.append(i[0])"
   ]
  },
  {
   "cell_type": "code",
   "execution_count": 197,
   "metadata": {},
   "outputs": [
    {
     "data": {
      "text/plain": [
       "[('great', 47729),\n",
       " ('little', 32759),\n",
       " ('old', 31603),\n",
       " ('easy', 31439),\n",
       " ('well', 30114),\n",
       " ('really', 28061),\n",
       " ('also', 27812),\n",
       " ('much', 23670),\n",
       " ('good', 23123),\n",
       " ('even', 20023),\n",
       " ('first', 19184),\n",
       " ('still', 18890),\n",
       " ('back', 17323),\n",
       " ('nice', 14341),\n",
       " ('enough', 13742),\n",
       " ('small', 13266),\n",
       " ('better', 12046),\n",
       " ('big', 11717),\n",
       " ('soft', 11453),\n",
       " ('easily', 11190)]"
      ]
     },
     "execution_count": 197,
     "metadata": {},
     "output_type": "execute_result"
    }
   ],
   "source": [
    "##list of top frequent words in the corpus\n",
    "\n",
    "FreqDist(filtered_word).most_common(20)"
   ]
  },
  {
   "cell_type": "code",
   "execution_count": null,
   "metadata": {},
   "outputs": [],
   "source": []
  }
 ],
 "metadata": {
  "kernelspec": {
   "display_name": "Python 3",
   "language": "python",
   "name": "python3"
  },
  "language_info": {
   "codemirror_mode": {
    "name": "ipython",
    "version": 3
   },
   "file_extension": ".py",
   "mimetype": "text/x-python",
   "name": "python",
   "nbconvert_exporter": "python",
   "pygments_lexer": "ipython3",
   "version": "3.7.1"
  }
 },
 "nbformat": 4,
 "nbformat_minor": 2
}
